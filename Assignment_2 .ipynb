{
 "cells": [
  {
   "cell_type": "markdown",
   "id": "864507e0",
   "metadata": {},
   "source": [
    "# Q1"
   ]
  },
  {
   "cell_type": "code",
   "execution_count": 1,
   "id": "c20d5579",
   "metadata": {},
   "outputs": [
    {
     "name": "stdout",
     "output_type": "stream",
     "text": [
      "Enter the length: 32\n",
      "Enter the width: 42\n",
      "1344\n"
     ]
    }
   ],
   "source": [
    "length= int(input(\"Enter the length: \"))\n",
    "width= int(input(\"Enter the width: \"))\n",
    "area= length * width\n",
    "print(area)"
   ]
  },
  {
   "cell_type": "markdown",
   "id": "39fdf900",
   "metadata": {},
   "source": [
    "# Q2"
   ]
  },
  {
   "cell_type": "code",
   "execution_count": 2,
   "id": "1c45a7f2",
   "metadata": {},
   "outputs": [
    {
     "name": "stdout",
     "output_type": "stream",
     "text": [
      "Enter the value of radius42\n",
      "The circumference of a circle is: 263.89356\n"
     ]
    }
   ],
   "source": [
    "pi = 3.14159\n",
    "\n",
    "radius= int(input(\"Enter the value of radius\"))\n",
    "circumference = 2 * pi * radius\n",
    "print(f\"The circumference of a circle is: {circumference}\")"
   ]
  },
  {
   "cell_type": "markdown",
   "id": "f1c3f0f5",
   "metadata": {},
   "source": [
    "# Q3"
   ]
  },
  {
   "cell_type": "code",
   "execution_count": 3,
   "id": "d3ab1c62",
   "metadata": {},
   "outputs": [
    {
     "name": "stdout",
     "output_type": "stream",
     "text": [
      "Enter the value of principal: 4\n",
      "Enter the value of rate: 3\n",
      "Enter the value of time: 3\n",
      "36\n"
     ]
    }
   ],
   "source": [
    "principal= int(input(\"Enter the value of principal: \"))\n",
    "rate= int(input(\"Enter the value of rate: \"))\n",
    "time= int(input(\"Enter the value of time: \"))\n",
    "\n",
    "simple_interest= principal * rate * time\n",
    "\n",
    "print(simple_interest)"
   ]
  },
  {
   "cell_type": "markdown",
   "id": "ced5e9af-567c-4f8c-8250-5435791d6a39",
   "metadata": {},
   "source": [
    "# Q4"
   ]
  },
  {
   "cell_type": "code",
   "execution_count": 4,
   "id": "bc2c46f9-fb05-4ed8-9d7e-78aa62e8a0bb",
   "metadata": {},
   "outputs": [
    {
     "name": "stdout",
     "output_type": "stream",
     "text": [
      "Enter the distance: 1\n",
      "Enter the time duration: 46\n",
      "0.021739130434782608\n"
     ]
    }
   ],
   "source": [
    "distance_in_KM= float(input(\"Enter the distance: \"))\n",
    "time_duration = float(input(\"Enter the time duration: \"))\n",
    "speed= distance_in_KM / time_duration\n",
    "\n",
    "print(speed)"
   ]
  },
  {
   "cell_type": "markdown",
   "id": "a645b628",
   "metadata": {},
   "source": [
    "# Q5\n"
   ]
  },
  {
   "cell_type": "code",
   "execution_count": 5,
   "id": "361da566",
   "metadata": {},
   "outputs": [
    {
     "name": "stdout",
     "output_type": "stream",
     "text": [
      "Enter the weight in kgs: 3\n",
      "Enter the height in meters: 2\n",
      "Your BMI is 0.75\n"
     ]
    }
   ],
   "source": [
    "weight_in_kgs= float(input(\"Enter the weight in kgs: \"))\n",
    "height_in_meters= float(input(\"Enter the height in meters: \"))\n",
    "\n",
    "BMI= weight_in_kgs / (height_in_meters ** 2)\n",
    "\n",
    "print(f\"Your BMI is {BMI}\")"
   ]
  },
  {
   "cell_type": "markdown",
   "id": "8ee7d876",
   "metadata": {},
   "source": [
    "# Q6"
   ]
  },
  {
   "cell_type": "code",
   "execution_count": 6,
   "id": "35798435",
   "metadata": {},
   "outputs": [
    {
     "name": "stdout",
     "output_type": "stream",
     "text": [
      "Enter mass in kilograms: 52\n",
      "Enter acceleration in meters/second: \n"
     ]
    },
    {
     "ename": "ValueError",
     "evalue": "could not convert string to float: ''",
     "output_type": "error",
     "traceback": [
      "\u001b[1;31m---------------------------------------------------------------------------\u001b[0m",
      "\u001b[1;31mValueError\u001b[0m                                Traceback (most recent call last)",
      "Cell \u001b[1;32mIn[6], line 2\u001b[0m\n\u001b[0;32m      1\u001b[0m mass\u001b[38;5;241m=\u001b[39m \u001b[38;5;28mfloat\u001b[39m(\u001b[38;5;28minput\u001b[39m(\u001b[38;5;124m\"\u001b[39m\u001b[38;5;124mEnter mass in kilograms: \u001b[39m\u001b[38;5;124m\"\u001b[39m))\n\u001b[1;32m----> 2\u001b[0m acceleration\u001b[38;5;241m=\u001b[39m \u001b[38;5;28mfloat\u001b[39m(\u001b[38;5;28minput\u001b[39m(\u001b[38;5;124m\"\u001b[39m\u001b[38;5;124mEnter acceleration in meters/second: \u001b[39m\u001b[38;5;124m\"\u001b[39m))\n\u001b[0;32m      4\u001b[0m force\u001b[38;5;241m=\u001b[39m mass \u001b[38;5;241m*\u001b[39m acceleration\n\u001b[0;32m      6\u001b[0m \u001b[38;5;28mprint\u001b[39m(\u001b[38;5;124mf\u001b[39m\u001b[38;5;124m\"\u001b[39m\u001b[38;5;124mThe force of an object is \u001b[39m\u001b[38;5;132;01m{\u001b[39;00mforce\u001b[38;5;132;01m}\u001b[39;00m\u001b[38;5;124m Newton\u001b[39m\u001b[38;5;124m\"\u001b[39m)\n",
      "\u001b[1;31mValueError\u001b[0m: could not convert string to float: ''"
     ]
    }
   ],
   "source": [
    "mass= float(input(\"Enter mass in kilograms: \"))\n",
    "acceleration= float(input(\"Enter acceleration in meters/second: \"))\n",
    "\n",
    "force= mass * acceleration\n",
    "\n",
    "print(f\"The force of an object is {force} Newton\")\n"
   ]
  },
  {
   "cell_type": "markdown",
   "id": "d53f69f2",
   "metadata": {},
   "source": [
    "# Q7"
   ]
  },
  {
   "cell_type": "code",
   "execution_count": null,
   "id": "4c5d0b69",
   "metadata": {},
   "outputs": [],
   "source": [
    "P= float(input(\"Enter the principal amount: \"))\n",
    "r= float(input(\"Enter the annual interest rate in decimal: \"))\n",
    "n= float(input(\"Enter number of times interest is compounded per year: \"))\n",
    "t= float(input(\"Enter time in years: \"))\n",
    "\n",
    "A = P * (1 + r / n) ** (n * t)\n",
    "\n",
    "compound_interest= A - P\n",
    "\n",
    "\n",
    "print(f\"Total amount (A) after {t} years: {A:.2f}\")\n",
    "print(f\"Total interest earned {compound_interest}\")"
   ]
  },
  {
   "cell_type": "markdown",
   "id": "0f3313c6",
   "metadata": {},
   "source": [
    "# Q8"
   ]
  },
  {
   "cell_type": "code",
   "execution_count": null,
   "id": "1d5c0ce6",
   "metadata": {},
   "outputs": [],
   "source": [
    "a= float(input(\"Enter the length of side a: \"))\n",
    "b= float(input(\"Enter the length of side b: \"))\n",
    "c= float(input(\"Enter the length of side c: \"))\n",
    "\n",
    "perimeter = a + b + c \n",
    "\n",
    "print(f\"The perimeter of a traingle is {perimeter: .2f}\")"
   ]
  },
  {
   "cell_type": "markdown",
   "id": "2265e819",
   "metadata": {},
   "source": [
    "# Q9"
   ]
  },
  {
   "cell_type": "code",
   "execution_count": null,
   "id": "1167826d",
   "metadata": {},
   "outputs": [],
   "source": [
    "pi = 3.14159\n",
    "\n",
    "r= float(input(\"Enter the radius of the sphere: \"))\n",
    "\n",
    "volume= (4/3) * pi * (r **3)\n",
    "\n",
    "print(f\"The value of the sphere in radius {r} is {volume: .2f} \")"
   ]
  },
  {
   "cell_type": "markdown",
   "id": "1f6b6f53",
   "metadata": {},
   "source": [
    "# Q10\n"
   ]
  },
  {
   "cell_type": "code",
   "execution_count": null,
   "id": "9b5c717b",
   "metadata": {},
   "outputs": [],
   "source": [
    "m= float(input(\"Enter mass in kiloograms: \"))\n",
    "v= float(input(\"Enter velocity in meters/seconds: \"))\n",
    "\n",
    "KE= (1/2) * m * (v ** 2)\n",
    "\n",
    "print(f\" The kinetic enter of an object is {KE}\")"
   ]
  },
  {
   "cell_type": "markdown",
   "id": "f05e8a7b",
   "metadata": {},
   "source": [
    " # Q11\n",
    " "
   ]
  },
  {
   "cell_type": "code",
   "execution_count": null,
   "id": "31fe8196",
   "metadata": {},
   "outputs": [],
   "source": [
    "print(\"Quadratic Equation: ax² + bx + c = 0\")\n",
    "\n",
    "a = float(input(\"Enter the coefficient a (a ≠ 0): \"))\n",
    "b = float(input(\"Enter the coefficient b: \"))\n",
    "c = float(input(\"Enter the constant c: \"))\n",
    "\n",
    "discriminant = b**2 - 4*a*c\n",
    "\n",
    "real_part = -b / (2 * a)\n",
    "imaginary_part = abs(discriminant)**0.5 / (2 * a)\n",
    "\n",
    "message = (\n",
    "    f\"Two distinct real roots: {real_part + imaginary_part} and {real_part - imaginary_part}\\n\"\n",
    "    f\"One real root: {real_part}\\n\"\n",
    "    f\"Two complex roots: {real_part} ± {imaginary_part}i\"\n",
    ")\n",
    "\n",
    "print(message.split(\"\\n\")[discriminant < 0 + (discriminant == 0)])\n"
   ]
  },
  {
   "cell_type": "markdown",
   "id": "aad17fca",
   "metadata": {},
   "source": [
    "# Q12"
   ]
  },
  {
   "cell_type": "code",
   "execution_count": null,
   "id": "a53c1759",
   "metadata": {},
   "outputs": [],
   "source": [
    "celcius= float(input(\"Enter the temperature in celius: \"))\n",
    "\n",
    "fahrenhiet= (celcius * 9 / 5) + 32\n",
    "\n",
    "print(fahrenhiet)"
   ]
  },
  {
   "cell_type": "markdown",
   "id": "2b15c78b",
   "metadata": {},
   "source": [
    "# Q13"
   ]
  },
  {
   "cell_type": "code",
   "execution_count": null,
   "id": "4efc09bf",
   "metadata": {},
   "outputs": [],
   "source": [
    "G = 6.674 * (10 ** -11)\n",
    "\n",
    "mass_1= float(input(\"Enter the mass of first object in (Kgs)\"))\n",
    "mass_2= float(input(\"Enter the mass of second object in (Kgs)\"))\n",
    "r= float(input(\"Enter the distance of the centers of the objects in(meter): \"))\n",
    "\n",
    "force= G * (mass_1 * mass_2) / (r ** 2)\n",
    "\n",
    "print(f\"The gravitational force between mass_1 & mass_b is {force} N\")\n",
    "\n"
   ]
  },
  {
   "cell_type": "markdown",
   "id": "7d2fa562",
   "metadata": {},
   "source": [
    "# Q14"
   ]
  },
  {
   "cell_type": "code",
   "execution_count": null,
   "id": "79e7f8bc",
   "metadata": {},
   "outputs": [],
   "source": [
    "pi = 3.14159\n",
    "\n",
    "r= float(input(\"Enter the radius of the cylinder: \"))\n",
    "h= float(input(\"Enter the height of the cylinder: \"))\n",
    "\n",
    "volume= pi * r ** 2  * h\n",
    "\n",
    "print(f\"The volume of a cylinder is {volume}\")"
   ]
  },
  {
   "cell_type": "markdown",
   "id": "f28e7907",
   "metadata": {},
   "source": [
    "# Q15"
   ]
  },
  {
   "cell_type": "code",
   "execution_count": 7,
   "id": "213919d0",
   "metadata": {},
   "outputs": [
    {
     "name": "stdout",
     "output_type": "stream",
     "text": [
      "Enter the force: 40\n",
      "Enter the area: 90\n",
      "The presure exerted by a force is: 0.4444444444444444\n"
     ]
    }
   ],
   "source": [
    "f= float(input(\"Enter the force: \"))\n",
    "a= float(input(\"Enter the area: \"))\n",
    "\n",
    "preasure= f / a\n",
    "\n",
    "print(f\"The presure exerted by a force is: {preasure}\")"
   ]
  },
  {
   "cell_type": "markdown",
   "id": "0be020c3",
   "metadata": {},
   "source": [
    "# Q16"
   ]
  },
  {
   "cell_type": "code",
   "execution_count": 8,
   "id": "27d596d5",
   "metadata": {},
   "outputs": [
    {
     "name": "stdout",
     "output_type": "stream",
     "text": [
      "Enter the voltage in valts: 140\n",
      "140134.5\n",
      "Enter the voltage in current: 490\n",
      "49011\n",
      "The electric power consumed is 12.227272727272727\n"
     ]
    }
   ],
   "source": [
    "voltage= float(input(input(\"Enter the voltage in valts: \")))\n",
    "current= float(input(input(\"Enter the voltage in current: \")))\n",
    "\n",
    "power= voltage / current\n",
    "\n",
    "print(f\"The electric power consumed is {power}\")"
   ]
  },
  {
   "cell_type": "markdown",
   "id": "b138aadd",
   "metadata": {},
   "source": [
    "# Q17"
   ]
  },
  {
   "cell_type": "code",
   "execution_count": 14,
   "id": "8533a4c2",
   "metadata": {},
   "outputs": [
    {
     "name": "stdout",
     "output_type": "stream",
     "text": [
      "Enter the radius of a circle: 90\n",
      "The perimeter (circumference) of a circle is: 565.49\n"
     ]
    }
   ],
   "source": [
    "pi = 3.14159\n",
    "\n",
    "radius= float(input(\"Enter the radius of a circle: \"))\n",
    "\n",
    "P = 2 * pi * radius\n",
    "\n",
    "print(f\"The perimeter (circumference) of a circle is: {P:.2f}\")"
   ]
  },
  {
   "cell_type": "markdown",
   "id": "06493868",
   "metadata": {},
   "source": [
    "# Q18"
   ]
  },
  {
   "cell_type": "code",
   "execution_count": 16,
   "id": "fefb23dd",
   "metadata": {},
   "outputs": [
    {
     "name": "stdout",
     "output_type": "stream",
     "text": [
      "Enter the present value: 90\n",
      "Enter the annual rate (as decimal)10\n",
      "Enter the times is years3\n",
      "The future value of a investment is 119790.00\n"
     ]
    }
   ],
   "source": [
    "PV= float(input(\"Enter the present value: \"))\n",
    "r= float(input(\"Enter the annual rate (as decimal)\"))\n",
    "t= float(input(\"Enter the times is years\"))\n",
    "\n",
    "FV= PV * (1 + r) ** t\n",
    "\n",
    "print(f\"The future value of a investment is {FV:.2f}\")"
   ]
  },
  {
   "cell_type": "markdown",
   "id": "acc6efa9",
   "metadata": {},
   "source": [
    "# Q19"
   ]
  },
  {
   "cell_type": "code",
   "execution_count": 17,
   "id": "d9713055",
   "metadata": {},
   "outputs": [
    {
     "name": "stdout",
     "output_type": "stream",
     "text": [
      "Enter the force: 100\n",
      "Enter the distance in meters: 5\n",
      "Enter the angle (θ) between force and direction of movement (in degrees)0\n",
      "The Work done by a force is: 500.00\n"
     ]
    }
   ],
   "source": [
    "f= float(input(\"Enter the force: \"))\n",
    "d= float(input(\"Enter the distance in meters: \"))\n",
    "theta= float(input(\"Enter the angle (θ) between force and direction of movement (in degrees)\"))\n",
    "\n",
    "cos_theta= 1 - (theta ** 2 / 720)\n",
    "\n",
    "w = f * d * cos_theta\n",
    "\n",
    "print(f\"The Work done by a force is: {w:.2f}\")"
   ]
  },
  {
   "cell_type": "markdown",
   "id": "c3d84dc5",
   "metadata": {},
   "source": [
    "# Q20"
   ]
  },
  {
   "cell_type": "code",
   "execution_count": 2,
   "id": "d939a2f6",
   "metadata": {},
   "outputs": [
    {
     "name": "stdout",
     "output_type": "stream",
     "text": [
      "Enter mass (Kg): 2\n",
      "Enter the specific heat capacity: 4186\n",
      "Enter the initial temperature: 20\n",
      "Enter the final temperature: 80\n",
      "The amount of heat tranferred: 502320.0\n"
     ]
    }
   ],
   "source": [
    "m= float(input(\"Enter mass (Kg): \"))\n",
    "c= float(input(\"Enter the specific heat capacity: \"))\n",
    "\n",
    "T_initial= float(input(\"Enter the initial temperature: \"))\n",
    "T_final= float(input(\"Enter the final temperature: \"))\n",
    "\n",
    "Q= m * c * (T_final - T_initial)\n",
    "\n",
    "print(f\"The amount of heat tranferred: {Q}\")"
   ]
  },
  {
   "cell_type": "code",
   "execution_count": null,
   "id": "c13425f1",
   "metadata": {},
   "outputs": [],
   "source": []
  }
 ],
 "metadata": {
  "kernelspec": {
   "display_name": "Python 3 (ipykernel)",
   "language": "python",
   "name": "python3"
  },
  "language_info": {
   "codemirror_mode": {
    "name": "ipython",
    "version": 3
   },
   "file_extension": ".py",
   "mimetype": "text/x-python",
   "name": "python",
   "nbconvert_exporter": "python",
   "pygments_lexer": "ipython3",
   "version": "3.11.5"
  }
 },
 "nbformat": 4,
 "nbformat_minor": 5
}
