{
 "cells": [
  {
   "cell_type": "code",
   "execution_count": 16,
   "id": "c79876fd",
   "metadata": {},
   "outputs": [],
   "source": [
    "import pandas as pd"
   ]
  },
  {
   "cell_type": "code",
   "execution_count": 17,
   "id": "ebc194e6",
   "metadata": {},
   "outputs": [],
   "source": [
    "df = pd.read_csv('covid_19_country_wise_latest.csv')"
   ]
  },
  {
   "cell_type": "code",
   "execution_count": 18,
   "id": "b1c703c0",
   "metadata": {},
   "outputs": [
    {
     "name": "stdout",
     "output_type": "stream",
     "text": [
      "   Unnamed: 0 Country/Region  Confirmed Deaths  Recovered  Active  New cases  \\\n",
      "0           0    Afghanistan      36263   1269      25198    9796      106.0   \n",
      "1           1        Albania       4880    144       2745    1991      117.0   \n",
      "2           2        Algeria      27973   1163      18837    7973      616.0   \n",
      "3           3        Andorra        907     52        803      52       10.0   \n",
      "4           4         Angola        950     41        242     667       18.0   \n",
      "\n",
      "   New deaths  New recovered  Deaths / 100 Cases  Recovered / 100 Cases  \\\n",
      "0        10.0             18                3.50                  69.49   \n",
      "1         6.0             63                2.95                  56.25   \n",
      "2         8.0            749                4.16                  67.34   \n",
      "3         0.0              0                5.73                  88.53   \n",
      "4         1.0              0                4.32                  25.47   \n",
      "\n",
      "   Deaths / 100 Recovered  Confirmed last week  1 week change  \\\n",
      "0                    5.04                35526            737   \n",
      "1                    5.25                 4171            709   \n",
      "2                    6.17                23691           4282   \n",
      "3                    6.48                  884             23   \n",
      "4                   16.94                  749            201   \n",
      "\n",
      "   1 week % increase             WHO Region  \n",
      "0               2.07  Eastern Mediterranean  \n",
      "1              17.00                 Europe  \n",
      "2              18.07                 Africa  \n",
      "3               2.60                 Europe  \n",
      "4              26.84                 Africa  \n"
     ]
    }
   ],
   "source": [
    "print(df.head())"
   ]
  },
  {
   "cell_type": "markdown",
   "id": "4fc135f3",
   "metadata": {},
   "source": [
    "# 2"
   ]
  },
  {
   "cell_type": "code",
   "execution_count": 19,
   "id": "59f223ff",
   "metadata": {},
   "outputs": [],
   "source": [
    "df.set_index('Unnamed: 0', inplace=True)"
   ]
  },
  {
   "cell_type": "markdown",
   "id": "ce2357b9",
   "metadata": {},
   "source": [
    "# 3"
   ]
  },
  {
   "cell_type": "code",
   "execution_count": 20,
   "id": "15431d55",
   "metadata": {},
   "outputs": [],
   "source": [
    "df.index.name = \"index\"\n"
   ]
  },
  {
   "cell_type": "markdown",
   "id": "7a66ed5e",
   "metadata": {},
   "source": [
    "# 4"
   ]
  },
  {
   "cell_type": "code",
   "execution_count": 21,
   "id": "1d9831ae",
   "metadata": {},
   "outputs": [
    {
     "name": "stdout",
     "output_type": "stream",
     "text": [
      "      Country/Region  Confirmed Deaths  Recovered  Active  New_cases  \\\n",
      "index                                                                  \n",
      "0        Afghanistan      36263   1269      25198    9796      106.0   \n",
      "1            Albania       4880    144       2745    1991      117.0   \n",
      "2            Algeria      27973   1163      18837    7973      616.0   \n",
      "3            Andorra        907     52        803      52       10.0   \n",
      "4             Angola        950     41        242     667       18.0   \n",
      "\n",
      "       New_deaths  New_recovered  Deaths_/_100_Cases  Recovered_/_100_Cases  \\\n",
      "index                                                                         \n",
      "0            10.0             18                3.50                  69.49   \n",
      "1             6.0             63                2.95                  56.25   \n",
      "2             8.0            749                4.16                  67.34   \n",
      "3             0.0              0                5.73                  88.53   \n",
      "4             1.0              0                4.32                  25.47   \n",
      "\n",
      "       Deaths_/_100_Recovered  Confirmed_last_week  1_week_change  \\\n",
      "index                                                               \n",
      "0                        5.04                35526            737   \n",
      "1                        5.25                 4171            709   \n",
      "2                        6.17                23691           4282   \n",
      "3                        6.48                  884             23   \n",
      "4                       16.94                  749            201   \n",
      "\n",
      "       1_week_%_increase             WHO_Region  \n",
      "index                                            \n",
      "0                   2.07  Eastern Mediterranean  \n",
      "1                  17.00                 Europe  \n",
      "2                  18.07                 Africa  \n",
      "3                   2.60                 Europe  \n",
      "4                  26.84                 Africa  \n"
     ]
    }
   ],
   "source": [
    "def clean_column_names(df):\n",
    "    df.columns = df.columns.str.replace(\" \", \"_\")\n",
    "    return df\n",
    "\n",
    "df = clean_column_names(df)\n",
    "\n",
    "print(df.head())\n"
   ]
  },
  {
   "cell_type": "markdown",
   "id": "a80db76c",
   "metadata": {},
   "source": [
    "# 5"
   ]
  },
  {
   "cell_type": "code",
   "execution_count": 22,
   "id": "fd7555d7",
   "metadata": {},
   "outputs": [
    {
     "name": "stdout",
     "output_type": "stream",
     "text": [
      "Column Names: ['Country/Region', 'Confirmed', 'Deaths', 'Recovered', 'Active', 'New_cases', 'New_deaths', 'New_recovered', 'Deaths_/_100_Cases', 'Recovered_/_100_Cases', 'Deaths_/_100_Recovered', 'Confirmed_last_week', '1_week_change', '1_week_%_increase', 'WHO_Region']\n",
      "\n",
      "Data Types:\n",
      " Country/Region             object\n",
      "Confirmed                   int64\n",
      "Deaths                     object\n",
      "Recovered                   int64\n",
      "Active                      int64\n",
      "New_cases                 float64\n",
      "New_deaths                float64\n",
      "New_recovered               int64\n",
      "Deaths_/_100_Cases        float64\n",
      "Recovered_/_100_Cases     float64\n",
      "Deaths_/_100_Recovered    float64\n",
      "Confirmed_last_week         int64\n",
      "1_week_change               int64\n",
      "1_week_%_increase         float64\n",
      "WHO_Region                 object\n",
      "dtype: object\n",
      "\n",
      "Missing Values:\n",
      " Country/Region             0\n",
      "Confirmed                  0\n",
      "Deaths                     0\n",
      "Recovered                  0\n",
      "Active                     0\n",
      "New_cases                 10\n",
      "New_deaths                10\n",
      "New_recovered              0\n",
      "Deaths_/_100_Cases         0\n",
      "Recovered_/_100_Cases      0\n",
      "Deaths_/_100_Recovered     0\n",
      "Confirmed_last_week        0\n",
      "1_week_change              0\n",
      "1_week_%_increase          0\n",
      "WHO_Region                 0\n",
      "dtype: int64\n"
     ]
    }
   ],
   "source": [
    "print(\"Column Names:\", df.columns.tolist())\n",
    "\n",
    "print(\"\\nData Types:\\n\", df.dtypes)\n",
    "\n",
    "print(\"\\nMissing Values:\\n\", df.isnull().sum())\n"
   ]
  },
  {
   "cell_type": "markdown",
   "id": "818c5c70",
   "metadata": {},
   "source": [
    "# 6"
   ]
  },
  {
   "cell_type": "code",
   "execution_count": 25,
   "id": "55d28231",
   "metadata": {},
   "outputs": [
    {
     "name": "stdout",
     "output_type": "stream",
     "text": [
      "      Country/Region  Confirmed Deaths  Recovered  Active  New_cases  \\\n",
      "index                                                                  \n",
      "0        Afghanistan      36263   1269      25198    9796      106.0   \n",
      "1            Albania       4880    144       2745    1991      117.0   \n",
      "2            Algeria      27973   1163      18837    7973      616.0   \n",
      "3            Andorra        907     52        803      52       10.0   \n",
      "4             Angola        950     41        242     667       18.0   \n",
      "\n",
      "       New_deaths  New_recovered  Deaths_/_100_Cases  Recovered_/_100_Cases  \\\n",
      "index                                                                         \n",
      "0            10.0             18                3.50                  69.49   \n",
      "1             6.0             63                2.95                  56.25   \n",
      "2             8.0            749                4.16                  67.34   \n",
      "3             0.0              0                5.73                  88.53   \n",
      "4             1.0              0                4.32                  25.47   \n",
      "\n",
      "       Deaths_/_100_Recovered  Confirmed_last_week  1_week_change  \\\n",
      "index                                                               \n",
      "0                        5.04                35526            737   \n",
      "1                        5.25                 4171            709   \n",
      "2                        6.17                23691           4282   \n",
      "3                        6.48                  884             23   \n",
      "4                       16.94                  749            201   \n",
      "\n",
      "       1_week_%_increase             WHO_Region  \n",
      "index                                            \n",
      "0                   2.07  Eastern Mediterranean  \n",
      "1                  17.00                 Europe  \n",
      "2                  18.07                 Africa  \n",
      "3                   2.60                 Europe  \n",
      "4                  26.84                 Africa  \n"
     ]
    }
   ],
   "source": [
    "# Fill NaN values with the mean of each column\n",
    "df = df.apply(lambda col: col.fillna(col.mean()) if col.dtype != 'O' else col)\n",
    "\n",
    "# Display the first 5 rows of the updated dataset\n",
    "print(df.head())"
   ]
  },
  {
   "cell_type": "markdown",
   "id": "0366431d",
   "metadata": {},
   "source": [
    "# 7"
   ]
  },
  {
   "cell_type": "code",
   "execution_count": 29,
   "id": "4fac28e5",
   "metadata": {},
   "outputs": [
    {
     "name": "stdout",
     "output_type": "stream",
     "text": [
      "187\n"
     ]
    }
   ],
   "source": [
    "print(df['Country/Region'].nunique())"
   ]
  },
  {
   "cell_type": "markdown",
   "id": "6eaf4686",
   "metadata": {},
   "source": [
    "# 8"
   ]
  },
  {
   "cell_type": "code",
   "execution_count": 31,
   "id": "b7e1ecd5",
   "metadata": {},
   "outputs": [],
   "source": [
    "df = df.drop_duplicates(subset=['Country/Region'])"
   ]
  },
  {
   "cell_type": "markdown",
   "id": "9fc47592",
   "metadata": {},
   "source": [
    "# 9"
   ]
  },
  {
   "cell_type": "code",
   "execution_count": 34,
   "id": "31ee7077",
   "metadata": {},
   "outputs": [
    {
     "name": "stdout",
     "output_type": "stream",
     "text": [
      "88130.935828877 5059.0 383318.66383061546\n"
     ]
    }
   ],
   "source": [
    "print(df['Confirmed'].mean(), \n",
    "      df['Confirmed'].median(), \n",
    "      df['Confirmed'].std())"
   ]
  },
  {
   "cell_type": "markdown",
   "id": "4844e7b5",
   "metadata": {},
   "source": [
    "# 10"
   ]
  },
  {
   "cell_type": "code",
   "execution_count": 35,
   "id": "8653f7d8",
   "metadata": {},
   "outputs": [],
   "source": [
    "df['Deaths'] = pd.to_numeric(df['Deaths'], errors='coerce')\n",
    "df['Deaths'].fillna(df['Deaths'].mean(), inplace=True)"
   ]
  },
  {
   "cell_type": "markdown",
   "id": "b498a94a",
   "metadata": {},
   "source": [
    "# 11\n"
   ]
  },
  {
   "cell_type": "code",
   "execution_count": 36,
   "id": "ada7b176",
   "metadata": {},
   "outputs": [],
   "source": [
    "df['Deaths'] = df['Deaths'].astype(int)"
   ]
  },
  {
   "cell_type": "markdown",
   "id": "d3018253",
   "metadata": {},
   "source": [
    "# 12"
   ]
  },
  {
   "cell_type": "code",
   "execution_count": 37,
   "id": "8db16a27",
   "metadata": {},
   "outputs": [
    {
     "name": "stdout",
     "output_type": "stream",
     "text": [
      "657516 9468087\n"
     ]
    }
   ],
   "source": [
    "print(df['Deaths'].sum(), df['Recovered'].sum())"
   ]
  },
  {
   "cell_type": "markdown",
   "id": "93b38417",
   "metadata": {},
   "source": [
    "# 13"
   ]
  },
  {
   "cell_type": "code",
   "execution_count": 38,
   "id": "7d200ddd",
   "metadata": {},
   "outputs": [
    {
     "name": "stdout",
     "output_type": "stream",
     "text": [
      "3\n"
     ]
    }
   ],
   "source": [
    "print((df['Confirmed'] > 1_000_000).sum())"
   ]
  },
  {
   "cell_type": "markdown",
   "id": "bf36192a",
   "metadata": {},
   "source": [
    "# 14"
   ]
  },
  {
   "cell_type": "code",
   "execution_count": 39,
   "id": "9f77eeda",
   "metadata": {},
   "outputs": [
    {
     "name": "stdout",
     "output_type": "stream",
     "text": [
      "index\n",
      "24          Brunei\n",
      "48        Djibouti\n",
      "49        Dominica\n",
      "69         Grenada\n",
      "75        Holy See\n",
      "78         Iceland\n",
      "105       Malaysia\n",
      "110      Mauritius\n",
      "121    New Zealand\n",
      "126         Norway\n",
      "136          Qatar\n",
      "164        Taiwan*\n",
      "Name: Country/Region, dtype: object\n"
     ]
    }
   ],
   "source": [
    "print(df[df['Recovered_/_100_Cases'] > 95]['Country/Region'])"
   ]
  },
  {
   "cell_type": "markdown",
   "id": "4c879ff9",
   "metadata": {},
   "source": [
    "# 15\n"
   ]
  },
  {
   "cell_type": "code",
   "execution_count": 40,
   "id": "9438ac31",
   "metadata": {},
   "outputs": [],
   "source": [
    "df = df.drop(columns=['WHO_Region', 'Confirmed'])"
   ]
  },
  {
   "cell_type": "markdown",
   "id": "72381c7e",
   "metadata": {},
   "source": [
    "# 16"
   ]
  },
  {
   "cell_type": "code",
   "execution_count": 41,
   "id": "42173d27",
   "metadata": {},
   "outputs": [
    {
     "name": "stdout",
     "output_type": "stream",
     "text": [
      "US\n"
     ]
    }
   ],
   "source": [
    "print(df.loc[df['Deaths'].idxmax(), 'Country/Region'])"
   ]
  },
  {
   "cell_type": "markdown",
   "id": "f86fd6b8",
   "metadata": {},
   "source": [
    "# 17"
   ]
  },
  {
   "cell_type": "code",
   "execution_count": 43,
   "id": "fb8a5070",
   "metadata": {},
   "outputs": [],
   "source": [
    "df = df.sort_values(by='Deaths', ascending=False)"
   ]
  },
  {
   "cell_type": "markdown",
   "id": "9c2e6abd",
   "metadata": {},
   "source": [
    "# 18"
   ]
  },
  {
   "cell_type": "code",
   "execution_count": 44,
   "id": "c15fb340",
   "metadata": {},
   "outputs": [],
   "source": [
    "df['Total_cases'] = df['Deaths'] + df['Recovered'] + df['Active']"
   ]
  },
  {
   "cell_type": "markdown",
   "id": "054f2236",
   "metadata": {},
   "source": [
    "# 19"
   ]
  },
  {
   "cell_type": "code",
   "execution_count": 45,
   "id": "9ed8c623",
   "metadata": {},
   "outputs": [],
   "source": [
    "df['Death_Rate'] = (df['Deaths'] / df['Total_cases']) * 100"
   ]
  },
  {
   "cell_type": "markdown",
   "id": "1a23ed0e",
   "metadata": {},
   "source": [
    "# 20"
   ]
  },
  {
   "cell_type": "code",
   "execution_count": 46,
   "id": "685e5213",
   "metadata": {},
   "outputs": [
    {
     "name": "stdout",
     "output_type": "stream",
     "text": [
      "index\n",
      "138                              Russia\n",
      "154                        South Africa\n",
      "6                             Argentina\n",
      "13                           Bangladesh\n",
      "145                        Saudi Arabia\n",
      "                     ...               \n",
      "148                          Seychelles\n",
      "142    Saint Vincent and the Grenadines\n",
      "55                              Eritrea\n",
      "181                             Vietnam\n",
      "114                            Mongolia\n",
      "Name: Country/Region, Length: 78, dtype: object\n"
     ]
    }
   ],
   "source": [
    "print(df[(df['1_week_%_increase'] > 0) & (df['Death_Rate'] < 2)]['Country/Region'])"
   ]
  },
  {
   "cell_type": "markdown",
   "id": "05b4137e",
   "metadata": {},
   "source": [
    "# 21"
   ]
  },
  {
   "cell_type": "code",
   "execution_count": 47,
   "id": "efc5668f",
   "metadata": {},
   "outputs": [
    {
     "name": "stdout",
     "output_type": "stream",
     "text": [
      "       Country/Region  Death_Rate\n",
      "index                            \n",
      "173                US    3.449932\n",
      "23             Brazil    3.587410\n",
      "177    United Kingdom   15.194824\n",
      "111            Mexico   11.131030\n",
      "85              Italy   14.256596\n"
     ]
    }
   ],
   "source": [
    "print(df[['Country/Region', 'Death_Rate']].head())"
   ]
  },
  {
   "cell_type": "markdown",
   "id": "8d500082",
   "metadata": {},
   "source": [
    "# 22"
   ]
  },
  {
   "cell_type": "code",
   "execution_count": 48,
   "id": "95bde37e",
   "metadata": {},
   "outputs": [
    {
     "data": {
      "image/png": "[encoded data removed]",
      "text/plain": [
       "<Figure size 640x480 with 1 Axes>"
      ]
     },
     "metadata": {},
     "output_type": "display_data"
    }
   ],
   "source": [
    "import matplotlib.pyplot as plt\n",
    "\n",
    "plt.scatter(df['Total_cases'], df['Deaths'], alpha=0.5)\n",
    "plt.xlabel('Total Cases')\n",
    "plt.ylabel('Total Deaths')\n",
    "plt.title('Scatter Plot of Total Cases vs Total Deaths')\n",
    "plt.show()"
   ]
  },
  {
   "cell_type": "markdown",
   "id": "6627ef41",
   "metadata": {},
   "source": [
    "# 23"
   ]
  },
  {
   "cell_type": "code",
   "execution_count": 49,
   "id": "1887cc65",
   "metadata": {},
   "outputs": [],
   "source": [
    "df.to_csv('updated_dataset.csv', index=False)"
   ]
  },
  {
   "cell_type": "code",
   "execution_count": null,
   "id": "782c4bfc",
   "metadata": {},
   "outputs": [],
   "source": []
  }
 ],
 "metadata": {
  "kernelspec": {
   "display_name": "Python 3 (ipykernel)",
   "language": "python",
   "name": "python3"
  },
  "language_info": {
   "codemirror_mode": {
    "name": "ipython",
    "version": 3
   },
   "file_extension": ".py",
   "mimetype": "text/x-python",
   "name": "python",
   "nbconvert_exporter": "python",
   "pygments_lexer": "ipython3",
   "version": "3.11.5"
  }
 },
 "nbformat": 4,
 "nbformat_minor": 5
}
